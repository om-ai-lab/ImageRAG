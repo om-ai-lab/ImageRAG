{
 "cells": [
  {
   "cell_type": "code",
   "execution_count": 1,
   "id": "41512796-012b-42c0-a581-03e43b311d25",
   "metadata": {},
   "outputs": [],
   "source": [
    "import argparse\n",
    "import torch\n",
    "import numpy as np\n",
    "import os\n",
    "import json\n",
    "from tqdm import tqdm\n",
    "import re\n",
    "import jsonlines\n",
    "import PIL.Image as Image\n",
    "import pickle as pkl\n",
    "import cv2\n",
    "Image.MAX_IMAGE_PIXELS = None\n",
    "\n",
    "bench_json_path = \"/media/zilun/fanxiang4t/GRSM/ImageRAG_git/data/train/FIT-RS-train-1415k_5para.json\"\n",
    "output_file_path = \"/media/zilun/fanxiang4t/GRSM/ImageRAG_git/data/train/FIT-RS-train-1415k_5para_star_obb2_0-1000.json\"\n",
    "star_stats_path = \"/media/zilun/fanxiang4t/GRSM/ImageRAG_git/codebase/dataset_process/star_statistics.pkl\"\n",
    "fit_img_dir = \"/media/zilun/fanxiang4t/GRSM/evaluation_dataset/VQA_VG/FIT/FIT-RS/FIT-RS_Instruction/FIT-RS_Img/imgv2_split_512_100_vaild\""
   ]
  },
  {
   "cell_type": "code",
   "execution_count": null,
   "id": "00e97cd5-555b-4cb1-a479-a52a3d376e11",
   "metadata": {},
   "outputs": [],
   "source": []
  },
  {
   "cell_type": "code",
   "execution_count": null,
   "id": "70f122d1-e891-4980-b77c-18af1b6bf891",
   "metadata": {},
   "outputs": [],
   "source": []
  },
  {
   "cell_type": "code",
   "execution_count": null,
   "id": "cd4dea22-91a9-42a9-8580-47105387e920",
   "metadata": {},
   "outputs": [],
   "source": []
  }
 ],
 "metadata": {
  "kernelspec": {
   "display_name": "Python 3 (ipykernel)",
   "language": "python",
   "name": "python3"
  },
  "language_info": {
   "codemirror_mode": {
    "name": "ipython",
    "version": 3
   },
   "file_extension": ".py",
   "mimetype": "text/x-python",
   "name": "python",
   "nbconvert_exporter": "python",
   "pygments_lexer": "ipython3",
   "version": "3.10.15"
  }
 },
 "nbformat": 4,
 "nbformat_minor": 5
}
